{
 "cells": [
  {
   "cell_type": "code",
   "execution_count": 1,
   "id": "5bce98dc",
   "metadata": {},
   "outputs": [
    {
     "name": "stdout",
     "output_type": "stream",
     "text": [
      "Optimum Length:  1.2909944727867015\n",
      "Optimum Width:  1.290994455352175\n",
      "Optimum Height:  1.2909944180130968\n",
      "Volume:  2.151657414467269\n",
      "Surface Area:  9.999999999713689\n"
     ]
    }
   ],
   "source": [
    "import numpy as np\n",
    "from scipy.optimize import minimize\n",
    "\n",
    "#initial guesses which will go into our optimization function\n",
    "guess_length = 1\n",
    "guess_width  = 1\n",
    "guess_height = 1\n",
    "\n",
    "#function to calculate the surface area of a box\n",
    "def calcSurfaceArea(x):\n",
    "    return 2*x[0]*x[1] + 2*x[0]*x[2] +2*x[2]*x[1]\n",
    "\n",
    "#function to calculate the volume of a box\n",
    "def calcVolume(x):\n",
    "    return x[0]*x[1]*x[2]\n",
    "\n",
    "##########################################################\n",
    "#we need to maximize our volume with the given constraint, \n",
    "#but scipy only does minimization so we make our objective \n",
    "#function the negative of volume\n",
    "#minimizing the objective function will maximize the volume\n",
    "##########################################################\n",
    "def objective_func(x):\n",
    "    return -calcVolume(x)\n",
    "\n",
    "#the constraint is to keep the surface area less tha 10\n",
    "def constraint(x):\n",
    "    return 10 - calcSurfaceArea(x)\n",
    "    \n",
    "guesses = [guess_length, guess_width, guess_height]\n",
    "\n",
    "##########################################################\n",
    "#this is our solver, we provide it our objective function \n",
    "#to minimize, initial guesses and our constraint in \n",
    "#dictionary form\n",
    "##########################################################\n",
    "sol = minimize(objective_func, guesses, constraints=({'type': 'ineq', 'fun': constraint}))\n",
    "\n",
    "opt_values = sol.x\n",
    "volume = calcVolume(opt_values)\n",
    "surfaceArea = calcSurfaceArea(opt_values)\n",
    "\n",
    "print('Optimum Length: ',opt_values[0])\n",
    "print('Optimum Width: ',opt_values[1])\n",
    "print('Optimum Height: ',opt_values[2])\n",
    "print('Volume: ',volume)\n",
    "print('Surface Area: ',surfaceArea)"
   ]
  }
 ],
 "metadata": {
  "kernelspec": {
   "display_name": "Python 3 (ipykernel)",
   "language": "python",
   "name": "python3"
  },
  "language_info": {
   "codemirror_mode": {
    "name": "ipython",
    "version": 3
   },
   "file_extension": ".py",
   "mimetype": "text/x-python",
   "name": "python",
   "nbconvert_exporter": "python",
   "pygments_lexer": "ipython3",
   "version": "3.9.7"
  }
 },
 "nbformat": 4,
 "nbformat_minor": 5
}
